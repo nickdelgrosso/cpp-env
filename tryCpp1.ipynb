{
 "cells": [
  {
   "cell_type": "code",
   "execution_count": null,
   "id": "3d9c6db1-2e98-437c-8ea9-619ea2fcba28",
   "metadata": {},
   "outputs": [
    {
     "data": {
      "text/plain": [
       "8"
      ]
     },
     "execution_count": 1,
     "metadata": {},
     "output_type": "execute_result"
    }
   ],
   "source": [
    "3 + 5"
   ]
  },
  {
   "cell_type": "code",
   "execution_count": 7,
   "id": "1e8d30d1-29aa-4c30-b931-dab779909de5",
   "metadata": {},
   "outputs": [
    {
     "data": {
      "text/plain": [
       "8"
      ]
     },
     "execution_count": 7,
     "metadata": {},
     "output_type": "execute_result"
    }
   ],
   "source": [
    "int x = 3;\n",
    "int y = 5;\n",
    "x + y\n"
   ]
  },
  {
   "cell_type": "code",
   "execution_count": 13,
   "id": "b904323c-ee41-41cd-9045-74802de651cd",
   "metadata": {},
   "outputs": [
    {
     "data": {
      "text/plain": [
       "9"
      ]
     },
     "execution_count": 13,
     "metadata": {},
     "output_type": "execute_result"
    }
   ],
   "source": [
    "int add2(int x, int y){\n",
    "    return x + y;\n",
    "}\n",
    "\n",
    "add2(4, 5)"
   ]
  },
  {
   "cell_type": "markdown",
   "id": "e7cfd140-538b-43e9-8a7c-3edcc9d33d45",
   "metadata": {},
   "source": [
    "Syntax\n",
    "\n",
    "```c\n",
    "for (statement 1; statement 2; statement 3) {\n",
    "  // code block to be execut\n",
    "    ed\n",
    "    \n",
    "\n",
    "```\n",
    "\n",
    "}\n",
    "Statement 1 is executed (one time) before the execution of the code block.\n",
    "\n",
    "Statement 2 defines the condition for executing the code block.\n",
    "\n",
    "Statement 3 is executed (every time) after the code block has been executed.\n",
    "\n",
    "The example below will print the numbers 0 to 4:"
   ]
  },
  {
   "cell_type": "code",
   "execution_count": 3,
   "id": "cb938fa9-557e-41f2-a1ff-58045ba8d638",
   "metadata": {},
   "outputs": [],
   "source": [
    "#include <iostream>\n",
    "using namespace std;"
   ]
  },
  {
   "cell_type": "code",
   "execution_count": 26,
   "id": "c6c0a348-5193-4fae-849f-bc24ad1efdef",
   "metadata": {},
   "outputs": [
    {
     "name": "stdout",
     "output_type": "stream",
     "text": [
      "hi"
     ]
    }
   ],
   "source": [
    "std::cout << \"hi\";"
   ]
  },
  {
   "cell_type": "code",
   "execution_count": 4,
   "id": "5473a03f-1ffb-4e19-be0d-2b6699fb5cd7",
   "metadata": {},
   "outputs": [
    {
     "name": "stdout",
     "output_type": "stream",
     "text": [
      "0\n",
      "1\n",
      "2\n",
      "3\n",
      "4\n"
     ]
    }
   ],
   "source": [
    "for (int i = 0; i < 5; i = i + 1) {\n",
    "    std::cout << i << \"\\n\";\n",
    "}"
   ]
  }
 ],
 "metadata": {
  "kernelspec": {
   "display_name": "C++17",
   "language": "C++17",
   "name": "xcpp17"
  },
  "language_info": {
   "codemirror_mode": "text/x-c++src",
   "file_extension": ".cpp",
   "mimetype": "text/x-c++src",
   "name": "c++",
   "version": "17"
  }
 },
 "nbformat": 4,
 "nbformat_minor": 5
}
