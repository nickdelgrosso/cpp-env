{
 "cells": [
  {
   "cell_type": "markdown",
   "id": "23b2a5fb-ce00-41ea-a619-ad45c610ff28",
   "metadata": {},
   "source": [
    "## Basic Operations with C++"
   ]
  },
  {
   "cell_type": "code",
   "execution_count": 1,
   "id": "fb7ebdf4-3e99-4069-b447-d3dd343fd24e",
   "metadata": {},
   "outputs": [
    {
     "data": {
      "text/plain": [
       "8"
      ]
     },
     "execution_count": 1,
     "metadata": {},
     "output_type": "execute_result"
    }
   ],
   "source": [
    "3 + 5"
   ]
  },
  {
   "cell_type": "code",
   "execution_count": 2,
   "id": "8acd214a-bced-40c8-9e25-f10a802a738f",
   "metadata": {},
   "outputs": [
    {
     "data": {
      "text/plain": [
       "48"
      ]
     },
     "execution_count": 2,
     "metadata": {},
     "output_type": "execute_result"
    }
   ],
   "source": [
    "6 * 8"
   ]
  },
  {
   "cell_type": "code",
   "execution_count": 3,
   "id": "1c1c7c8f-4106-4b0d-b940-5f706fd15a0d",
   "metadata": {},
   "outputs": [
    {
     "data": {
      "text/plain": [
       "1"
      ]
     },
     "execution_count": 3,
     "metadata": {},
     "output_type": "execute_result"
    }
   ],
   "source": [
    "9 / 5"
   ]
  },
  {
   "cell_type": "code",
   "execution_count": 4,
   "id": "c2222102-0689-42c7-b093-615dae7acb28",
   "metadata": {},
   "outputs": [
    {
     "data": {
      "text/plain": [
       "1.8000000"
      ]
     },
     "execution_count": 4,
     "metadata": {},
     "output_type": "execute_result"
    }
   ],
   "source": [
    "9.0 / 5."
   ]
  },
  {
   "cell_type": "code",
   "execution_count": 6,
   "id": "6f4968fe-3166-460a-b3dd-26c5ae5c4fe9",
   "metadata": {},
   "outputs": [
    {
     "data": {
      "text/plain": [
       "1.8000000"
      ]
     },
     "execution_count": 6,
     "metadata": {},
     "output_type": "execute_result"
    }
   ],
   "source": [
    "9.0 / 5.0"
   ]
  },
  {
   "cell_type": "code",
   "execution_count": 7,
   "id": "c36fd7e9-c81a-4a17-8aa5-fba0bacb83b5",
   "metadata": {},
   "outputs": [
    {
     "data": {
      "text/plain": [
       "1.8000000"
      ]
     },
     "execution_count": 7,
     "metadata": {},
     "output_type": "execute_result"
    }
   ],
   "source": [
    "9.0f / 5."
   ]
  },
  {
   "cell_type": "code",
   "execution_count": 10,
   "id": "284c3f73-59f7-4d08-acb5-43f64ef6bc45",
   "metadata": {},
   "outputs": [
    {
     "data": {
      "text/plain": [
       "5.5511151e-17"
      ]
     },
     "execution_count": 10,
     "metadata": {},
     "output_type": "execute_result"
    }
   ],
   "source": [
    "0.1 + 0.2 - 0.3"
   ]
  },
  {
   "cell_type": "code",
   "execution_count": 11,
   "id": "7eb83246-f0cd-4fe6-b581-6396ec3aeaf5",
   "metadata": {},
   "outputs": [
    {
     "data": {
      "text/plain": [
       "0.00000f"
      ]
     },
     "execution_count": 11,
     "metadata": {},
     "output_type": "execute_result"
    }
   ],
   "source": [
    "0.1f + 0.2f - 0.3f"
   ]
  },
  {
   "cell_type": "code",
   "execution_count": 12,
   "id": "8895df91-fda6-4498-8aa1-2a79d9cea4ec",
   "metadata": {},
   "outputs": [
    {
     "data": {
      "text/plain": [
       "true"
      ]
     },
     "execution_count": 12,
     "metadata": {},
     "output_type": "execute_result"
    }
   ],
   "source": [
    "2 == 2"
   ]
  },
  {
   "cell_type": "code",
   "execution_count": 13,
   "id": "cf48ee07-f4a8-410f-89bf-1f689c32e7f9",
   "metadata": {},
   "outputs": [
    {
     "data": {
      "text/plain": [
       "true"
      ]
     },
     "execution_count": 13,
     "metadata": {},
     "output_type": "execute_result"
    }
   ],
   "source": [
    "true != false"
   ]
  },
  {
   "cell_type": "code",
   "execution_count": 14,
   "id": "e70ab3ce-fa52-4d3a-a097-835be50d1c73",
   "metadata": {},
   "outputs": [
    {
     "data": {
      "text/plain": [
       "true"
      ]
     },
     "execution_count": 14,
     "metadata": {},
     "output_type": "execute_result"
    }
   ],
   "source": [
    "true > 0"
   ]
  },
  {
   "cell_type": "code",
   "execution_count": 15,
   "id": "cfa666f2-3910-490b-9f00-8329b3eee049",
   "metadata": {},
   "outputs": [
    {
     "data": {
      "text/plain": [
       "false"
      ]
     },
     "execution_count": 15,
     "metadata": {},
     "output_type": "execute_result"
    }
   ],
   "source": [
    "true > 1"
   ]
  },
  {
   "cell_type": "markdown",
   "id": "af0ab52b-101f-4a88-a6d4-6020f575a973",
   "metadata": {},
   "source": [
    "## Coding with Static Types: Identifiers (a.k.a. \"Variables\")"
   ]
  },
  {
   "cell_type": "code",
   "execution_count": 18,
   "id": "4eb3d809-c6b9-461d-9d5a-1932d754226b",
   "metadata": {},
   "outputs": [
    {
     "data": {
      "text/plain": [
       "3"
      ]
     },
     "execution_count": 18,
     "metadata": {},
     "output_type": "execute_result"
    }
   ],
   "source": [
    "int x = 3;\n",
    "x"
   ]
  },
  {
   "cell_type": "code",
   "execution_count": 21,
   "id": "1113ef49-0cfa-4944-ba43-e10f2575f925",
   "metadata": {},
   "outputs": [
    {
     "data": {
      "text/plain": [
       "@0x7ffeafe92108"
      ]
     },
     "execution_count": 21,
     "metadata": {},
     "output_type": "execute_result"
    }
   ],
   "source": [
    "int *y = &x;\n",
    "y"
   ]
  },
  {
   "cell_type": "code",
   "execution_count": 40,
   "id": "655124a1-ddf8-4897-b084-652eda793a59",
   "metadata": {},
   "outputs": [
    {
     "data": {
      "text/plain": [
       "'~'"
      ]
     },
     "execution_count": 40,
     "metadata": {},
     "output_type": "execute_result"
    }
   ],
   "source": [
    "char a = 126;\n",
    "a"
   ]
  },
  {
   "cell_type": "code",
   "execution_count": 27,
   "id": "32ab9520-bc70-46cb-aebd-2f5bdb050ce2",
   "metadata": {},
   "outputs": [
    {
     "name": "stderr",
     "output_type": "stream",
     "text": [
      "\u001b[1minput_line_57:2:12: \u001b[0m\u001b[0;1;35mwarning: \u001b[0m\u001b[1mimplicit conversion from 'int' to 'short' changes value from 40000 to -25536 [-Wconstant-conversion]\u001b[0m\n",
      " short z = 40000;\n",
      "\u001b[0;1;32m       ~   ^~~~~\n",
      "\u001b[0m"
     ]
    },
    {
     "data": {
      "text/plain": [
       "-25536"
      ]
     },
     "execution_count": 27,
     "metadata": {},
     "output_type": "execute_result"
    }
   ],
   "source": [
    "short z = 40000;\n",
    "z"
   ]
  },
  {
   "cell_type": "code",
   "execution_count": 44,
   "id": "7d3856a6-4da5-489b-b884-50e00ac0b423",
   "metadata": {},
   "outputs": [
    {
     "data": {
      "text/plain": [
       "\"s\""
      ]
     },
     "execution_count": 44,
     "metadata": {},
     "output_type": "execute_result"
    }
   ],
   "source": [
    "typeid(z).name()"
   ]
  },
  {
   "cell_type": "code",
   "execution_count": null,
   "id": "49732726-dc4f-4f5a-8459-849c28387202",
   "metadata": {},
   "outputs": [],
   "source": []
  },
  {
   "cell_type": "markdown",
   "id": "1616600a-e490-4b9b-be42-e878dffb23cc",
   "metadata": {},
   "source": [
    "## Introduction to Strings\n",
    "\n",
    "| Code                           | Description                           |\n",
    "| :-- | :-- |\n",
    "| `char myString[10] = \"Hello\";` | Declares a string with 'Hello'.       |\n",
    "| `cout << myString;`            | Prints the string.                    |\n",
    "| `myString[4] = 'y';`           | Modifies the last character to 'y'.   |\n",
    "| `strlen(myString);`            | Finds the length of the string.       |\n",
    "| `strcpy(myString, \"Hi\");`      | Copies 'Hi' into the string.          |"
   ]
  },
  {
   "cell_type": "markdown",
   "id": "62a5d972-5b9d-488e-b042-03144f6fe068",
   "metadata": {},
   "source": [
    "Declare a string and initialize it with your name."
   ]
  },
  {
   "cell_type": "code",
   "execution_count": 47,
   "id": "57a4528f-b96e-455c-97f9-1340401a9d17",
   "metadata": {},
   "outputs": [
    {
     "data": {
      "text/plain": [
       "\"Nick\""
      ]
     },
     "execution_count": 47,
     "metadata": {},
     "output_type": "execute_result"
    }
   ],
   "source": [
    "char myName[5] = \"Nick\";\n",
    "myName"
   ]
  },
  {
   "cell_type": "code",
   "execution_count": 52,
   "id": "1c7b69a8-5715-4e2b-a7d8-73f36e1893a4",
   "metadata": {},
   "outputs": [
    {
     "data": {
      "text/plain": [
       "\"Joe\""
      ]
     },
     "execution_count": 52,
     "metadata": {},
     "output_type": "execute_result"
    }
   ],
   "source": [
    "strcpy(myName, \"Joe\");\n",
    "myName"
   ]
  },
  {
   "cell_type": "code",
   "execution_count": 53,
   "id": "aef366bf-fe8f-4356-9c5e-188271e8c4c3",
   "metadata": {},
   "outputs": [
    {
     "data": {
      "text/plain": [
       "\"Josep\""
      ]
     },
     "execution_count": 53,
     "metadata": {},
     "output_type": "execute_result"
    }
   ],
   "source": [
    "strcpy(myName, \"Joseph\");\n",
    "myName"
   ]
  },
  {
   "cell_type": "code",
   "execution_count": 59,
   "id": "a594f206-2c4d-46fe-8132-992d6db72d10",
   "metadata": {},
   "outputs": [
    {
     "data": {
      "text/plain": [
       "'J'"
      ]
     },
     "execution_count": 59,
     "metadata": {},
     "output_type": "execute_result"
    }
   ],
   "source": [
    "myName[0]"
   ]
  },
  {
   "cell_type": "markdown",
   "id": "3d8b1d3c-c39a-4f98-854e-3b109f54da34",
   "metadata": {},
   "source": [
    "Print the length of the above string."
   ]
  },
  {
   "cell_type": "code",
   "execution_count": 60,
   "id": "41c3e022-808e-4ef8-819f-a940d8e6d2d3",
   "metadata": {},
   "outputs": [
    {
     "data": {
      "text/plain": [
       "6"
      ]
     },
     "execution_count": 60,
     "metadata": {},
     "output_type": "execute_result"
    }
   ],
   "source": [
    "strlen(myName)"
   ]
  },
  {
   "cell_type": "markdown",
   "id": "31092ffb-ef01-45de-a86e-f513b081bc4f",
   "metadata": {},
   "source": [
    "Change the first character of the string to 'A'."
   ]
  },
  {
   "cell_type": "markdown",
   "id": "5ec696b7-2139-45e2-8267-56e8a5a27a2a",
   "metadata": {},
   "source": [
    "Concatenate another string to your name string."
   ]
  },
  {
   "cell_type": "markdown",
   "id": "409a31ab-d856-46c2-a261-4873c532ec9d",
   "metadata": {},
   "source": [
    "Check if a character (e.g., 'e') is present in the string."
   ]
  },
  {
   "cell_type": "markdown",
   "id": "674cf62f-bee3-4d8f-8260-ba44f778460b",
   "metadata": {},
   "source": [
    "Convert all characters in the string to uppercase."
   ]
  },
  {
   "cell_type": "markdown",
   "id": "0168d019-d10b-4272-980d-dfa394831669",
   "metadata": {},
   "source": [
    "Extract a substring from the string."
   ]
  },
  {
   "cell_type": "markdown",
   "id": "67a7604b-8ca4-4d4b-9837-bdd03d01c644",
   "metadata": {},
   "source": [
    "8. Reverse the string."
   ]
  },
  {
   "cell_type": "markdown",
   "id": "8a22afae-a9a5-4a89-9c70-c36d68a4539d",
   "metadata": {},
   "source": [
    "9. Replace all occurrences of a character (e.g., 'a') with another character (e.g., 'o')."
   ]
  },
  {
   "cell_type": "markdown",
   "id": "a673045b-5cb0-4d2a-96a6-9f3ab05769aa",
   "metadata": {},
   "source": [
    "Write a function that takes a string and an integer n and prints the first n characters of the string.\n"
   ]
  }
 ],
 "metadata": {
  "kernelspec": {
   "display_name": "C++17",
   "language": "C++17",
   "name": "xcpp17"
  },
  "language_info": {
   "codemirror_mode": "text/x-c++src",
   "file_extension": ".cpp",
   "mimetype": "text/x-c++src",
   "name": "c++",
   "version": "17"
  }
 },
 "nbformat": 4,
 "nbformat_minor": 5
}
