{
 "cells": [
  {
   "cell_type": "markdown",
   "id": "23b2a5fb-ce00-41ea-a619-ad45c610ff28",
   "metadata": {},
   "source": [
    "## Basic Operations with C/C++: Arithmetic and Logicals\n",
    "\n",
    "| Code | Description |\n",
    "| :-- | :-- |\n",
    "| `1 + 2 * 3 / 5`  |  Arithmetic Operators |\n",
    "| `10 % 3`  | Remainder after Integer Division Operator  |\n",
    "| `(3 > 5) == (2 <= 5) != (6 >= 4)`  |  Comparison Operators |\n",
    "| `12` | `int` (integer) |\n",
    "| `12.0`  | `double` decimal value |\n",
    "| `true` | `bool` logical value |\n",
    "\n"
   ]
  },
  {
   "cell_type": "markdown",
   "id": "02a11d50-d686-40b9-849a-40d3a9227230",
   "metadata": {},
   "source": [
    "What is three plus five?  "
   ]
  },
  {
   "cell_type": "code",
   "execution_count": 1,
   "id": "fb7ebdf4-3e99-4069-b447-d3dd343fd24e",
   "metadata": {},
   "outputs": [
    {
     "data": {
      "text/plain": [
       "8"
      ]
     },
     "execution_count": 1,
     "metadata": {},
     "output_type": "execute_result"
    }
   ],
   "source": [
    "3 + 5"
   ]
  },
  {
   "cell_type": "markdown",
   "id": "15820f2b-67ab-444b-b046-c21c35a4b6e7",
   "metadata": {},
   "source": [
    "What is six times eight?  "
   ]
  },
  {
   "cell_type": "code",
   "execution_count": 2,
   "id": "8acd214a-bced-40c8-9e25-f10a802a738f",
   "metadata": {},
   "outputs": [
    {
     "data": {
      "text/plain": [
       "48"
      ]
     },
     "execution_count": 2,
     "metadata": {},
     "output_type": "execute_result"
    }
   ],
   "source": [
    "6 * 8"
   ]
  },
  {
   "cell_type": "code",
   "execution_count": 3,
   "id": "1c1c7c8f-4106-4b0d-b940-5f706fd15a0d",
   "metadata": {},
   "outputs": [
    {
     "data": {
      "text/plain": [
       "1"
      ]
     },
     "execution_count": 3,
     "metadata": {},
     "output_type": "execute_result"
    }
   ],
   "source": [
    "9 / 5"
   ]
  },
  {
   "cell_type": "code",
   "execution_count": 4,
   "id": "c2222102-0689-42c7-b093-615dae7acb28",
   "metadata": {},
   "outputs": [
    {
     "data": {
      "text/plain": [
       "1.8000000"
      ]
     },
     "execution_count": 4,
     "metadata": {},
     "output_type": "execute_result"
    }
   ],
   "source": [
    "9.0 / 5."
   ]
  },
  {
   "cell_type": "code",
   "execution_count": 6,
   "id": "6f4968fe-3166-460a-b3dd-26c5ae5c4fe9",
   "metadata": {},
   "outputs": [
    {
     "data": {
      "text/plain": [
       "1.8000000"
      ]
     },
     "execution_count": 6,
     "metadata": {},
     "output_type": "execute_result"
    }
   ],
   "source": [
    "9.0 / 5.0"
   ]
  },
  {
   "cell_type": "code",
   "execution_count": 7,
   "id": "c36fd7e9-c81a-4a17-8aa5-fba0bacb83b5",
   "metadata": {},
   "outputs": [
    {
     "data": {
      "text/plain": [
       "1.8000000"
      ]
     },
     "execution_count": 7,
     "metadata": {},
     "output_type": "execute_result"
    }
   ],
   "source": [
    "9.0f / 5."
   ]
  },
  {
   "cell_type": "code",
   "execution_count": 10,
   "id": "284c3f73-59f7-4d08-acb5-43f64ef6bc45",
   "metadata": {},
   "outputs": [
    {
     "data": {
      "text/plain": [
       "5.5511151e-17"
      ]
     },
     "execution_count": 10,
     "metadata": {},
     "output_type": "execute_result"
    }
   ],
   "source": [
    "0.1 + 0.2 - 0.3"
   ]
  },
  {
   "cell_type": "code",
   "execution_count": 11,
   "id": "7eb83246-f0cd-4fe6-b581-6396ec3aeaf5",
   "metadata": {},
   "outputs": [
    {
     "data": {
      "text/plain": [
       "0.00000f"
      ]
     },
     "execution_count": 11,
     "metadata": {},
     "output_type": "execute_result"
    }
   ],
   "source": [
    "0.1f + 0.2f - 0.3f"
   ]
  },
  {
   "cell_type": "code",
   "execution_count": 12,
   "id": "8895df91-fda6-4498-8aa1-2a79d9cea4ec",
   "metadata": {},
   "outputs": [
    {
     "data": {
      "text/plain": [
       "true"
      ]
     },
     "execution_count": 12,
     "metadata": {},
     "output_type": "execute_result"
    }
   ],
   "source": [
    "2 == 2"
   ]
  },
  {
   "cell_type": "code",
   "execution_count": 13,
   "id": "cf48ee07-f4a8-410f-89bf-1f689c32e7f9",
   "metadata": {},
   "outputs": [
    {
     "data": {
      "text/plain": [
       "true"
      ]
     },
     "execution_count": 13,
     "metadata": {},
     "output_type": "execute_result"
    }
   ],
   "source": [
    "true != false"
   ]
  },
  {
   "cell_type": "code",
   "execution_count": 14,
   "id": "e70ab3ce-fa52-4d3a-a097-835be50d1c73",
   "metadata": {},
   "outputs": [
    {
     "data": {
      "text/plain": [
       "true"
      ]
     },
     "execution_count": 14,
     "metadata": {},
     "output_type": "execute_result"
    }
   ],
   "source": [
    "true > 0"
   ]
  },
  {
   "cell_type": "code",
   "execution_count": 15,
   "id": "cfa666f2-3910-490b-9f00-8329b3eee049",
   "metadata": {},
   "outputs": [
    {
     "data": {
      "text/plain": [
       "false"
      ]
     },
     "execution_count": 15,
     "metadata": {},
     "output_type": "execute_result"
    }
   ],
   "source": [
    "true > 1"
   ]
  },
  {
   "cell_type": "markdown",
   "id": "af0ab52b-101f-4a88-a6d4-6020f575a973",
   "metadata": {},
   "source": [
    "## Coding with Static Types: Identifiers (a.k.a. \"Variables\")"
   ]
  },
  {
   "cell_type": "code",
   "execution_count": 18,
   "id": "4eb3d809-c6b9-461d-9d5a-1932d754226b",
   "metadata": {},
   "outputs": [
    {
     "data": {
      "text/plain": [
       "3"
      ]
     },
     "execution_count": 18,
     "metadata": {},
     "output_type": "execute_result"
    }
   ],
   "source": [
    "int x = 3;\n",
    "x"
   ]
  },
  {
   "cell_type": "code",
   "execution_count": 21,
   "id": "1113ef49-0cfa-4944-ba43-e10f2575f925",
   "metadata": {},
   "outputs": [
    {
     "data": {
      "text/plain": [
       "@0x7ffeafe92108"
      ]
     },
     "execution_count": 21,
     "metadata": {},
     "output_type": "execute_result"
    }
   ],
   "source": [
    "int *y = &x;\n",
    "y"
   ]
  },
  {
   "cell_type": "code",
   "execution_count": 40,
   "id": "655124a1-ddf8-4897-b084-652eda793a59",
   "metadata": {},
   "outputs": [
    {
     "data": {
      "text/plain": [
       "'~'"
      ]
     },
     "execution_count": 40,
     "metadata": {},
     "output_type": "execute_result"
    }
   ],
   "source": [
    "char a = 126;\n",
    "a"
   ]
  },
  {
   "cell_type": "code",
   "execution_count": 27,
   "id": "32ab9520-bc70-46cb-aebd-2f5bdb050ce2",
   "metadata": {},
   "outputs": [
    {
     "name": "stderr",
     "output_type": "stream",
     "text": [
      "\u001b[1minput_line_57:2:12: \u001b[0m\u001b[0;1;35mwarning: \u001b[0m\u001b[1mimplicit conversion from 'int' to 'short' changes value from 40000 to -25536 [-Wconstant-conversion]\u001b[0m\n",
      " short z = 40000;\n",
      "\u001b[0;1;32m       ~   ^~~~~\n",
      "\u001b[0m"
     ]
    },
    {
     "data": {
      "text/plain": [
       "-25536"
      ]
     },
     "execution_count": 27,
     "metadata": {},
     "output_type": "execute_result"
    }
   ],
   "source": [
    "short z = 40000;\n",
    "z"
   ]
  },
  {
   "cell_type": "code",
   "execution_count": 44,
   "id": "7d3856a6-4da5-489b-b884-50e00ac0b423",
   "metadata": {},
   "outputs": [
    {
     "data": {
      "text/plain": [
       "\"s\""
      ]
     },
     "execution_count": 44,
     "metadata": {},
     "output_type": "execute_result"
    }
   ],
   "source": [
    "typeid(z).name()"
   ]
  },
  {
   "cell_type": "code",
   "execution_count": null,
   "id": "49732726-dc4f-4f5a-8459-849c28387202",
   "metadata": {},
   "outputs": [],
   "source": []
  },
  {
   "cell_type": "markdown",
   "id": "1616600a-e490-4b9b-be42-e878dffb23cc",
   "metadata": {},
   "source": [
    "## Introduction to Strings\n",
    "\n",
    "| Code                           | Description                           |\n",
    "| :-- | :-- |\n",
    "| `char myString[10] = \"Hello\";` | Declares a string with 'Hello'.       |\n",
    "| `cout << myString;`            | Prints the string.                    |\n",
    "| `myString[4] = 'y';`           | Modifies the last character to 'y'.   |\n",
    "| `strlen(myString);`            | Finds the length of the string.       |\n",
    "| `strcpy(myString, \"Hi\");`      | Copies 'Hi' into the string.          |"
   ]
  },
  {
   "cell_type": "markdown",
   "id": "62a5d972-5b9d-488e-b042-03144f6fe068",
   "metadata": {},
   "source": [
    "Declare a string and initialize it with your name."
   ]
  },
  {
   "cell_type": "code",
   "execution_count": 47,
   "id": "57a4528f-b96e-455c-97f9-1340401a9d17",
   "metadata": {},
   "outputs": [
    {
     "data": {
      "text/plain": [
       "\"Nick\""
      ]
     },
     "execution_count": 47,
     "metadata": {},
     "output_type": "execute_result"
    }
   ],
   "source": [
    "char myName[5] = \"Nick\";\n",
    "myName"
   ]
  },
  {
   "cell_type": "code",
   "execution_count": 52,
   "id": "1c7b69a8-5715-4e2b-a7d8-73f36e1893a4",
   "metadata": {},
   "outputs": [
    {
     "data": {
      "text/plain": [
       "\"Joe\""
      ]
     },
     "execution_count": 52,
     "metadata": {},
     "output_type": "execute_result"
    }
   ],
   "source": [
    "strcpy(myName, \"Joe\");\n",
    "myName"
   ]
  },
  {
   "cell_type": "code",
   "execution_count": 53,
   "id": "aef366bf-fe8f-4356-9c5e-188271e8c4c3",
   "metadata": {},
   "outputs": [
    {
     "data": {
      "text/plain": [
       "\"Josep\""
      ]
     },
     "execution_count": 53,
     "metadata": {},
     "output_type": "execute_result"
    }
   ],
   "source": [
    "strcpy(myName, \"Joseph\");\n",
    "myName"
   ]
  },
  {
   "cell_type": "code",
   "execution_count": 59,
   "id": "a594f206-2c4d-46fe-8132-992d6db72d10",
   "metadata": {},
   "outputs": [
    {
     "data": {
      "text/plain": [
       "'J'"
      ]
     },
     "execution_count": 59,
     "metadata": {},
     "output_type": "execute_result"
    }
   ],
   "source": [
    "myName[0]"
   ]
  },
  {
   "cell_type": "markdown",
   "id": "3d8b1d3c-c39a-4f98-854e-3b109f54da34",
   "metadata": {},
   "source": [
    "Print the length of the above string."
   ]
  },
  {
   "cell_type": "code",
   "execution_count": 60,
   "id": "41c3e022-808e-4ef8-819f-a940d8e6d2d3",
   "metadata": {},
   "outputs": [
    {
     "data": {
      "text/plain": [
       "6"
      ]
     },
     "execution_count": 60,
     "metadata": {},
     "output_type": "execute_result"
    }
   ],
   "source": [
    "strlen(myName)"
   ]
  },
  {
   "cell_type": "code",
   "execution_count": 63,
   "id": "39150730-1811-4f8e-8464-93d204b5f76b",
   "metadata": {},
   "outputs": [
    {
     "data": {
      "text/plain": [
       "7"
      ]
     },
     "execution_count": 63,
     "metadata": {},
     "output_type": "execute_result"
    }
   ],
   "source": [
    "char str[50];\n",
    "int age = 30;\n",
    "sprintf(str, \"Age: %d\", age); // str becomes \"Age: 30\""
   ]
  },
  {
   "cell_type": "code",
   "execution_count": 68,
   "id": "b1d9eafe-ad09-44f9-ba77-f58a83321d35",
   "metadata": {},
   "outputs": [
    {
     "data": {
      "text/plain": [
       "\"abcdefg\u0000\""
      ]
     },
     "execution_count": 68,
     "metadata": {},
     "output_type": "execute_result"
    }
   ],
   "source": [
    "char gg[10] = \"abcdefg\";\n",
    "gg"
   ]
  },
  {
   "cell_type": "code",
   "execution_count": 73,
   "id": "3808470f-fd5c-493b-909e-55b1fa1e4512",
   "metadata": {},
   "outputs": [
    {
     "data": {
      "text/plain": [
       "\"zyxwvutsrq\u0000\u0000\u0000\""
      ]
     },
     "execution_count": 73,
     "metadata": {},
     "output_type": "execute_result"
    }
   ],
   "source": [
    "char hh[15] = \"zyxwvutsrq\";\n",
    "hh"
   ]
  },
  {
   "cell_type": "code",
   "execution_count": 71,
   "id": "f752467b-2bc3-4891-88b0-9caae3e48391",
   "metadata": {},
   "outputs": [
    {
     "data": {
      "text/plain": [
       "\"zyxwvutsrq\""
      ]
     },
     "execution_count": 71,
     "metadata": {},
     "output_type": "execute_result"
    }
   ],
   "source": [
    "strcpy(gg, hh)"
   ]
  },
  {
   "cell_type": "code",
   "execution_count": 72,
   "id": "526040b0-7c02-4051-bab2-f9942169f527",
   "metadata": {},
   "outputs": [
    {
     "data": {
      "text/plain": [
       "\"\u0000yxwvutsrq\u0000\u0000\u0000\""
      ]
     },
     "execution_count": 72,
     "metadata": {},
     "output_type": "execute_result"
    }
   ],
   "source": [
    "hh"
   ]
  },
  {
   "cell_type": "code",
   "execution_count": 74,
   "id": "40a29b69-33f1-4ab5-903b-27a573e184ea",
   "metadata": {},
   "outputs": [
    {
     "data": {
      "text/plain": [
       "\"zyxwvutsrq\""
      ]
     },
     "execution_count": 74,
     "metadata": {},
     "output_type": "execute_result"
    }
   ],
   "source": [
    "gg"
   ]
  },
  {
   "cell_type": "markdown",
   "id": "31092ffb-ef01-45de-a86e-f513b081bc4f",
   "metadata": {},
   "source": [
    "Change the first character of the string to 'A'."
   ]
  },
  {
   "cell_type": "code",
   "execution_count": 75,
   "id": "c19c1a15-388a-45c6-acc9-ed5f53ecfb68",
   "metadata": {},
   "outputs": [
    {
     "data": {
      "text/plain": [
       "\"Ayxwvutsrq\""
      ]
     },
     "execution_count": 75,
     "metadata": {},
     "output_type": "execute_result"
    }
   ],
   "source": [
    "gg[0] = 'A';\n",
    "gg"
   ]
  },
  {
   "cell_type": "code",
   "execution_count": 76,
   "id": "1cd137f8-d35a-40f9-882f-d15504fc251f",
   "metadata": {},
   "outputs": [
    {
     "data": {
      "text/plain": [
       "\"AyxwGutsrq\""
      ]
     },
     "execution_count": 76,
     "metadata": {},
     "output_type": "execute_result"
    }
   ],
   "source": [
    "gg[4] = 'G';\n",
    "gg"
   ]
  },
  {
   "cell_type": "code",
   "execution_count": 79,
   "id": "3edbe16f-4889-414e-a4f4-8983637c592f",
   "metadata": {},
   "outputs": [
    {
     "data": {
      "text/plain": [
       "true"
      ]
     },
     "execution_count": 79,
     "metadata": {},
     "output_type": "execute_result"
    }
   ],
   "source": [
    "bool result = strcmp(hh, gg);\n",
    "result"
   ]
  },
  {
   "cell_type": "markdown",
   "id": "5ec696b7-2139-45e2-8267-56e8a5a27a2a",
   "metadata": {},
   "source": [
    "Concatenate another string to your name string."
   ]
  },
  {
   "cell_type": "code",
   "execution_count": null,
   "id": "099c32d4-5dca-460f-928f-2d717b8dc3a3",
   "metadata": {},
   "outputs": [],
   "source": []
  },
  {
   "cell_type": "code",
   "execution_count": 80,
   "id": "937b0e4c-ec94-4cb9-9e88-8412991c1f06",
   "metadata": {},
   "outputs": [
    {
     "data": {
      "text/plain": [
       "\"zyxwvutsrqAyxwGutsrq\""
      ]
     },
     "execution_count": 80,
     "metadata": {},
     "output_type": "execute_result"
    }
   ],
   "source": [
    "strcat(hh, gg)"
   ]
  },
  {
   "cell_type": "code",
   "execution_count": 81,
   "id": "5b0d0b9f-5baf-4162-8665-48b6ed4beeae",
   "metadata": {},
   "outputs": [
    {
     "data": {
      "text/plain": [
       "\"World\""
      ]
     },
     "execution_count": 81,
     "metadata": {},
     "output_type": "execute_result"
    }
   ],
   "source": [
    "char ff[] = \"World\";\n",
    "ff"
   ]
  },
  {
   "cell_type": "code",
   "execution_count": 85,
   "id": "444aefe9-2b2e-421b-b9c8-6a31f5472804",
   "metadata": {},
   "outputs": [
    {
     "data": {
      "text/plain": [
       "\"WorlA\""
      ]
     },
     "execution_count": 85,
     "metadata": {},
     "output_type": "execute_result"
    }
   ],
   "source": [
    "ff[strlen(ff)-1] = 'A';\n",
    "ff"
   ]
  },
  {
   "cell_type": "code",
   "execution_count": 86,
   "id": "6ef719b4-107d-41a4-b59c-3b39c67001cb",
   "metadata": {},
   "outputs": [
    {
     "name": "stderr",
     "output_type": "stream",
     "text": [
      "\u001b[1minput_line_166:2:15: \u001b[0m\u001b[0;1;31merror: \u001b[0m\u001b[1minitializer-string for char array is too long\u001b[0m\n",
      " char bb[4] = \"abcd\";\n",
      "\u001b[0;1;32m              ^~~~~~\n",
      "\u001b[0m"
     ]
    },
    {
     "ename": "Interpreter Error",
     "evalue": "",
     "output_type": "error",
     "traceback": [
      "Interpreter Error: "
     ]
    }
   ],
   "source": [
    "char bb[4] = \"abcd\";\n",
    "bb"
   ]
  },
  {
   "cell_type": "code",
   "execution_count": 89,
   "id": "beb05eef-1c66-4095-9e35-9a9594d8e26f",
   "metadata": {},
   "outputs": [
    {
     "name": "stderr",
     "output_type": "stream",
     "text": [
      "\u001b[1minput_line_170:2:7: \u001b[0m\u001b[0;1;31merror: \u001b[0m\u001b[1marray initializer must be an initializer list or string literal\u001b[0m\n",
      " char bb[4] = 'abcd';\n",
      "\u001b[0;1;32m      ^\n",
      "\u001b[0m"
     ]
    },
    {
     "ename": "Interpreter Error",
     "evalue": "",
     "output_type": "error",
     "traceback": [
      "Interpreter Error: "
     ]
    }
   ],
   "source": [
    "char bb[4] = 'abcd';\n",
    "bb"
   ]
  },
  {
   "cell_type": "code",
   "execution_count": 90,
   "id": "ede977e4-2abe-4a12-8cc8-07dbefea6e36",
   "metadata": {},
   "outputs": [
    {
     "data": {
      "text/plain": [
       "\"abcd\""
      ]
     },
     "execution_count": 90,
     "metadata": {},
     "output_type": "execute_result"
    }
   ],
   "source": [
    "char bb[4] = {'a', 'b', 'c', 'd'};\n",
    "bb"
   ]
  },
  {
   "cell_type": "markdown",
   "id": "409a31ab-d856-46c2-a261-4873c532ec9d",
   "metadata": {},
   "source": [
    "Check if a character (e.g., 'e') is present in the string."
   ]
  },
  {
   "cell_type": "markdown",
   "id": "674cf62f-bee3-4d8f-8260-ba44f778460b",
   "metadata": {},
   "source": [
    "Convert all characters in the string to uppercase."
   ]
  },
  {
   "cell_type": "markdown",
   "id": "0168d019-d10b-4272-980d-dfa394831669",
   "metadata": {},
   "source": [
    "Extract a substring from the string."
   ]
  },
  {
   "cell_type": "markdown",
   "id": "67a7604b-8ca4-4d4b-9837-bdd03d01c644",
   "metadata": {},
   "source": [
    "8. Reverse the string."
   ]
  },
  {
   "cell_type": "markdown",
   "id": "8a22afae-a9a5-4a89-9c70-c36d68a4539d",
   "metadata": {},
   "source": [
    "9. Replace all occurrences of a character (e.g., 'a') with another character (e.g., 'o')."
   ]
  },
  {
   "cell_type": "markdown",
   "id": "a673045b-5cb0-4d2a-96a6-9f3ab05769aa",
   "metadata": {},
   "source": [
    "Write a function that takes a string and an integer n and prints the first n characters of the string.\n"
   ]
  },
  {
   "cell_type": "markdown",
   "id": "171a94d6-0053-490c-ac9b-f7344da8a7ff",
   "metadata": {},
   "source": [
    "#\r\n",
    "# Writing Functions in C++\r\n",
    "\r\n",
    "Functions are a fundamental part of C++ programming, allowing you to encapsulate reusable code. This section provides exercises to practice writing and using fions.unct"
   ]
  },
  {
   "cell_type": "markdown",
   "id": "0e172674-dc5b-43cb-83bc-9d424123bf81",
   "metadata": {},
   "source": [
    " **Exercises**: For each exercise, write a function as described. Test your function with appropriate function calls in your main program to ensure it works as expected."
   ]
  },
  {
   "cell_type": "markdown",
   "id": "e5e8f671-1b21-4dc0-845d-8cd2adbbb96a",
   "metadata": {},
   "source": [
    "**Example**: Write a function named `add` that takes two integers as parameters and returns their sum.\r\n",
    " "
   ]
  },
  {
   "cell_type": "code",
   "execution_count": 100,
   "id": "f5a5f7b8-b298-4a8f-b14f-095bbc9a3673",
   "metadata": {},
   "outputs": [],
   "source": [
    "#include<iostream>\n",
    "using namespace std;"
   ]
  },
  {
   "cell_type": "code",
   "execution_count": 133,
   "id": "61565e54-f5d9-442b-84d0-c61cbc45e7ec",
   "metadata": {},
   "outputs": [
    {
     "data": {
      "text/plain": [
       "8"
      ]
     },
     "execution_count": 133,
     "metadata": {},
     "output_type": "execute_result"
    }
   ],
   "source": [
    "// Function\n",
    "int add(int x, int y) {\n",
    "    return x + y;\n",
    "}\n",
    "\n",
    "// Usage\n",
    "add(3, 5)"
   ]
  },
  {
   "cell_type": "markdown",
   "id": "99a3800c-32bc-4373-919e-6b4bde164aca",
   "metadata": {},
   "source": [
    "Write a function named `mul` that takes two integers as parameters and returns their product.\n"
   ]
  },
  {
   "cell_type": "code",
   "execution_count": 132,
   "id": "181cff86-ce82-47a4-af06-cbc0698e6386",
   "metadata": {},
   "outputs": [
    {
     "data": {
      "text/plain": [
       "6"
      ]
     },
     "execution_count": 132,
     "metadata": {},
     "output_type": "execute_result"
    }
   ],
   "source": [
    "// Function\n",
    "int mul(int x, int y) {\n",
    "    return x * y;\n",
    "}\n",
    "\n",
    "// Usage\n",
    "mul(3, 2)"
   ]
  },
  {
   "cell_type": "markdown",
   "id": "e22bacb2-fb70-4e6f-9432-f150138ee4d7",
   "metadata": {},
   "source": [
    "Write a function named `isEven` that takes an integer and returns `true` if the number is even and `false` otherwise.  (*Note*: the `%` operator for calculating remainders is useful here.)\r\n",
    " "
   ]
  },
  {
   "cell_type": "code",
   "execution_count": 144,
   "id": "6023f396-2f94-4d81-9cda-0f23571b2ddd",
   "metadata": {},
   "outputs": [
    {
     "data": {
      "text/plain": [
       "false"
      ]
     },
     "execution_count": 144,
     "metadata": {},
     "output_type": "execute_result"
    }
   ],
   "source": [
    "bool isEven(int x) {\n",
    "    return (x % 2) == 0;\n",
    "}\n",
    "\n",
    "isEven(5)"
   ]
  },
  {
   "cell_type": "markdown",
   "id": "843e6910-c64a-4527-ad91-cc2844e31f9b",
   "metadata": {},
   "source": [
    " Write a function named `toSeconds` that takes an integer representing a number of hours, an integer representing a number of minutes, and an integer representing a number of seconds, and returns the total number of seconds.\r\n",
    " "
   ]
  },
  {
   "cell_type": "code",
   "execution_count": 152,
   "id": "2ff39c23-4512-4a15-badd-256a668325c7",
   "metadata": {},
   "outputs": [
    {
     "data": {
      "text/plain": [
       "3725"
      ]
     },
     "execution_count": 152,
     "metadata": {},
     "output_type": "execute_result"
    }
   ],
   "source": [
    "int toSeconds(int hours, int minutes, int seconds){\n",
    "    return hours * 60 * 60 + minutes * 60 + seconds;\n",
    "}\n",
    "\n",
    "toSeconds(1, 2, 5)"
   ]
  }
 ],
 "metadata": {
  "kernelspec": {
   "display_name": "C++17",
   "language": "C++17",
   "name": "xcpp17"
  },
  "language_info": {
   "codemirror_mode": "text/x-c++src",
   "file_extension": ".cpp",
   "mimetype": "text/x-c++src",
   "name": "c++",
   "version": "17"
  }
 },
 "nbformat": 4,
 "nbformat_minor": 5
}
