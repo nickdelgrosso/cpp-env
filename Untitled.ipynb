{
 "cells": [
  {
   "cell_type": "code",
   "execution_count": 2,
   "id": "b561240f-bfb3-4de0-856c-b837faa53353",
   "metadata": {},
   "outputs": [],
   "source": [
    "int a = 3"
   ]
  },
  {
   "cell_type": "code",
   "execution_count": 3,
   "id": "c40c3f68-26e5-4250-8e9f-0af6d3071405",
   "metadata": {},
   "outputs": [
    {
     "data": {
      "text/plain": [
       "3"
      ]
     },
     "execution_count": 3,
     "metadata": {},
     "output_type": "execute_result"
    }
   ],
   "source": [
    "a"
   ]
  },
  {
   "cell_type": "code",
   "execution_count": 7,
   "id": "26a07327-73f0-4b5c-bfb3-2aa3235ff6e2",
   "metadata": {},
   "outputs": [],
   "source": [
    "int *b = &a"
   ]
  },
  {
   "cell_type": "code",
   "execution_count": 11,
   "id": "d57984a3-b176-4a1d-83de-56b9708920f7",
   "metadata": {},
   "outputs": [
    {
     "data": {
      "text/plain": [
       "3"
      ]
     },
     "execution_count": 11,
     "metadata": {},
     "output_type": "execute_result"
    }
   ],
   "source": [
    "a"
   ]
  },
  {
   "cell_type": "code",
   "execution_count": 13,
   "id": "fa69334c-b9a1-416e-8ca2-18bc623991dc",
   "metadata": {},
   "outputs": [
    {
     "data": {
      "text/plain": [
       "@0x7fff7aba4448"
      ]
     },
     "execution_count": 13,
     "metadata": {},
     "output_type": "execute_result"
    }
   ],
   "source": [
    "b"
   ]
  },
  {
   "cell_type": "code",
   "execution_count": 14,
   "id": "30a8b164-2d25-4112-be01-7e0b45044c3f",
   "metadata": {},
   "outputs": [
    {
     "data": {
      "text/plain": [
       "3"
      ]
     },
     "execution_count": 14,
     "metadata": {},
     "output_type": "execute_result"
    }
   ],
   "source": [
    "*b"
   ]
  },
  {
   "cell_type": "code",
   "execution_count": 15,
   "id": "dde189ca-b636-407e-a0df-29d5963ec5d1",
   "metadata": {},
   "outputs": [
    {
     "data": {
      "text/plain": [
       "6"
      ]
     },
     "execution_count": 15,
     "metadata": {},
     "output_type": "execute_result"
    }
   ],
   "source": [
    "a = 6"
   ]
  },
  {
   "cell_type": "code",
   "execution_count": 16,
   "id": "7910d999-91c4-44ac-97ef-73f59bfd94da",
   "metadata": {},
   "outputs": [
    {
     "data": {
      "text/plain": [
       "6"
      ]
     },
     "execution_count": 16,
     "metadata": {},
     "output_type": "execute_result"
    }
   ],
   "source": [
    "*b"
   ]
  },
  {
   "cell_type": "code",
   "execution_count": 18,
   "id": "c2314669-2709-476b-8166-4e2666e05653",
   "metadata": {},
   "outputs": [],
   "source": [
    "int c = a"
   ]
  },
  {
   "cell_type": "code",
   "execution_count": 19,
   "id": "57427df3-4902-4d16-befd-bdbcdd05460c",
   "metadata": {},
   "outputs": [
    {
     "data": {
      "text/plain": [
       "6"
      ]
     },
     "execution_count": 19,
     "metadata": {},
     "output_type": "execute_result"
    }
   ],
   "source": [
    "c"
   ]
  },
  {
   "cell_type": "code",
   "execution_count": 21,
   "id": "a45826b0-a112-4196-8a60-24f4664d24d5",
   "metadata": {},
   "outputs": [
    {
     "data": {
      "text/plain": [
       "10"
      ]
     },
     "execution_count": 21,
     "metadata": {},
     "output_type": "execute_result"
    }
   ],
   "source": [
    "a = 10;\n",
    "a"
   ]
  },
  {
   "cell_type": "code",
   "execution_count": 23,
   "id": "73630d6e-71c7-4a2e-833c-71bc99905c13",
   "metadata": {},
   "outputs": [
    {
     "data": {
      "text/plain": [
       "10"
      ]
     },
     "execution_count": 23,
     "metadata": {},
     "output_type": "execute_result"
    }
   ],
   "source": [
    "*b"
   ]
  },
  {
   "cell_type": "code",
   "execution_count": 25,
   "id": "b42da000-42d5-4a40-8f92-819363c90c2a",
   "metadata": {},
   "outputs": [
    {
     "data": {
      "text/plain": [
       "6"
      ]
     },
     "execution_count": 25,
     "metadata": {},
     "output_type": "execute_result"
    }
   ],
   "source": [
    "c"
   ]
  },
  {
   "cell_type": "code",
   "execution_count": null,
   "id": "78a3c2e1-2de4-4b3c-8f44-83dfb97738cb",
   "metadata": {},
   "outputs": [],
   "source": []
  }
 ],
 "metadata": {
  "kernelspec": {
   "display_name": "C++17",
   "language": "C++17",
   "name": "xcpp17"
  },
  "language_info": {
   "codemirror_mode": "text/x-c++src",
   "file_extension": ".cpp",
   "mimetype": "text/x-c++src",
   "name": "c++",
   "version": "17"
  }
 },
 "nbformat": 4,
 "nbformat_minor": 5
}
